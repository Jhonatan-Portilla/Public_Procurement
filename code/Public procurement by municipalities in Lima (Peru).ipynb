{
 "cells": [
  {
   "cell_type": "code",
   "execution_count": 1,
   "id": "94dd6d8c",
   "metadata": {},
   "outputs": [],
   "source": [
    "import pandas as pd\n",
    "import pickle\n",
    "from itertools import compress\n",
    "import numpy as np"
   ]
  },
  {
   "cell_type": "markdown",
   "id": "e949d27d-e041-49c1-abe3-e1b2432332a6",
   "metadata": {},
   "source": [
    "# Database of awarded public procurement"
   ]
  },
  {
   "cell_type": "code",
   "execution_count": 2,
   "id": "573251d1",
   "metadata": {},
   "outputs": [],
   "source": [
    "data_old = pickle.load(open(\"../../data/interim/adjudicaciones_old.pickle\",'rb'))\n",
    "data_new = pickle.load(open(\"../../data/interim/adjudicaciones.pickle\",'rb'))"
   ]
  },
  {
   "cell_type": "code",
   "execution_count": 3,
   "id": "86921ad2",
   "metadata": {},
   "outputs": [],
   "source": [
    "colnames_old = pd.DataFrame([*map(lambda y: y.columns, data_old)])\n",
    "colnames_old = colnames_old.apply(lambda y: (y.value_counts().idxmax(), y.value_counts().max(), y.unique())).transpose()\n",
    "colnames = pd.DataFrame([*map(lambda y: y.columns, data_new)])\n",
    "colnames = colnames.apply(lambda y: (y.value_counts().idxmax(), y.value_counts().max(), y.unique())).transpose()\n",
    "colnames_old.to_excel(\"../../data/external/colnames_old_.xlsx\")\n",
    "colnames.to_excel(\"../../data/external/colnames_.xlsx\")"
   ]
  },
  {
   "cell_type": "code",
   "execution_count": 4,
   "id": "e3e041b3",
   "metadata": {},
   "outputs": [],
   "source": [
    "rename_df = pd.read_excel(\"../../data/external/columns_names_adjudicaciones.xlsx\", sheet_name='rename')\n",
    "rename_df = rename_df.set_index('ORIGINAL')['MODIFICADO']"
   ]
  },
  {
   "cell_type": "code",
   "execution_count": 5,
   "id": "514279f3",
   "metadata": {},
   "outputs": [],
   "source": [
    "try:\n",
    "    data_old = pd.concat(map(lambda df: df.rename(columns = rename_df), data_old))\n",
    "except:\n",
    "    data_old = pd.DataFrame()"
   ]
  },
  {
   "cell_type": "code",
   "execution_count": 6,
   "id": "c846178f",
   "metadata": {},
   "outputs": [],
   "source": [
    "data_new = pd.concat(map(lambda df: df, data_new))\n",
    "data_adj = pd.concat([data_old, data_new], ignore_index=True)"
   ]
  },
  {
   "cell_type": "code",
   "execution_count": 8,
   "id": "e78df818",
   "metadata": {
    "scrolled": true
   },
   "outputs": [],
   "source": [
    "data_adj['FECHACONVOCATORIA'] = pd.to_datetime(data_adj['FECHACONVOCATORIA'])\n",
    "data_adj['MONTO_REFERENCIAL_ITEM'] = pd.to_numeric(data_adj['MONTO_REFERENCIAL_ITEM'])\n",
    "data_adj['MONTO_REFERENCIAL_ITEM_SOLES'] = pd.to_numeric(data_adj['MONTO_REFERENCIAL_ITEM_SOLES'])\n",
    "data_adj['MONTO_ADJUDICADO_ITEM'] = pd.to_numeric(data_adj['MONTO_ADJUDICADO_ITEM'])\n",
    "data_adj['MONTO_ADJUDICADO_ITEM_SOLES'] = pd.to_numeric(data_adj['MONTO_ADJUDICADO_ITEM_SOLES'])\n",
    "data_adj['CANTIDAD_ADJUDICADA_ITEM'] = pd.to_numeric(data_adj['CANTIDAD_ADJUDICADA_ITEM'])\n",
    "data_adj['AÑO'] = data_adj['ORIGEN'].apply(lambda x: str(x)[-11:-7])"
   ]
  },
  {
   "cell_type": "code",
   "execution_count": 10,
   "id": "501a950e",
   "metadata": {},
   "outputs": [],
   "source": [
    "data_adj = data_adj[['AÑO','VERSION','CODIGOCONVOCATORIA','RUC_ENTIDAD','ENTIDAD','TIPOENTIDAD','TIPOPROCESOSELECCION','PROCESO','REGIMEN','N_ITEM',\n",
    "             'DESCRIPCION_ITEM','UNIDAD_MEDIDA','PAQUETE','CODIGOGRUPO','DESCRIPCION_GRUPO','ITEMCUBSO','MONEDA',\n",
    "             'MONTO_REFERENCIAL_ITEM','CANTIDAD_ADJUDICADA_ITEM','MONTO_ADJUDICADO_ITEM','RUC_CODIGO_GANADOR',\n",
    "             'GANADOR','TIPO_PROVEEDOR','CONSORCIO', 'RUC_MIEMBRO','MIEMBRO','ORIGEN']]"
   ]
  },
  {
   "cell_type": "code",
   "execution_count": 11,
   "id": "72225e58",
   "metadata": {},
   "outputs": [],
   "source": [
    "orden_columnas = ['AÑO','VERSION','CODIGOCONVOCATORIA','N_ITEM','RUC_ENTIDAD','ENTIDAD','TIPOENTIDAD','TIPOPROCESOSELECCION','PROCESO','REGIMEN',\n",
    "                  'DESCRIPCION_ITEM','UNIDAD_MEDIDA','PAQUETE','CODIGOGRUPO','DESCRIPCION_GRUPO','ITEMCUBSO','MONEDA',\n",
    "                  'MONTO_REFERENCIAL_ITEM','CANTIDAD_ADJUDICADA_ITEM','MONTO_ADJUDICADO_ITEM','RUC_CODIGO_GANADOR',\n",
    "                  'GANADOR','TIPO_PROVEEDOR','CONSORCIO', 'RUC_MIEMBRO','MIEMBRO','ORIGEN']\n",
    "data_adj = data_adj.reindex(columns=orden_columnas)"
   ]
  },
  {
   "cell_type": "markdown",
   "id": "726afd47",
   "metadata": {},
   "source": [
    "# Bidders' database"
   ]
  },
  {
   "cell_type": "code",
   "execution_count": 12,
   "id": "4fbd4bc8",
   "metadata": {},
   "outputs": [],
   "source": [
    "data_old_postores = pickle.load(open(\"../../data/interim/postores_old.pickle\",'rb'))\n",
    "data_new_postores = pickle.load(open(\"../../data/interim/postores.pickle\",'rb'))"
   ]
  },
  {
   "cell_type": "code",
   "execution_count": 13,
   "id": "9a87925b",
   "metadata": {},
   "outputs": [],
   "source": [
    "rename_df = pd.read_excel(\"../../data/external/columns_names_postores.xlsx\", sheet_name='rename')\n",
    "rename_df2 = pd.read_excel(\"../../data/external/columns_names_postores.xlsx\", sheet_name='tonew')\n",
    "rename_df2 = rename_df2[rename_df2.ORIGINAL != rename_df2.MODIFICADO]\n",
    "\n",
    "rename_df = rename_df.set_index('ORIGINAL')['MODIFICADO']\n",
    "rename_df2 = rename_df2.set_index('ORIGINAL')['MODIFICADO']"
   ]
  },
  {
   "cell_type": "code",
   "execution_count": 14,
   "id": "b6b6c4cc",
   "metadata": {},
   "outputs": [],
   "source": [
    "try:\n",
    "    data_old_postores = pd.concat(map(lambda df: df.rename(columns = rename_df).rename(columns = rename_df2), data_old_postores))\n",
    "except:\n",
    "    data_old_postores = pd.DataFrame()"
   ]
  },
  {
   "cell_type": "code",
   "execution_count": 16,
   "id": "cf01a683",
   "metadata": {},
   "outputs": [],
   "source": [
    "data_new_postores = pd.concat(map(lambda df: df.rename(columns = rename_df).rename(columns = rename_df2), data_new_postores))\n",
    "data_postores = pd.concat([data_old_postores, data_new_postores], ignore_index=True)"
   ]
  },
  {
   "cell_type": "code",
   "execution_count": 18,
   "id": "7dce3794",
   "metadata": {},
   "outputs": [],
   "source": [
    "data_postores = data_postores[['CODIGO_CONVOCATORIA','FECHACONVOCATORIA','FECHA_REGISTRO_SISTEMA',\n",
    "                               'HORA_REGISTRO','FECHA_PRESENTACION_PROPUESTA', 'HORA_PRESENTACION',\n",
    "                               'N_ITEM','RUC_CODIGO_POSTOR','POSTOR','RUC_DETALLEPOSTOR','DETALLE_POSTOR', 'PORCENTAJE',\n",
    "                               'MONEDA','MONTO','ESTADOADMISIONPRESENPROPUESTA', 'ORIGEN']]"
   ]
  },
  {
   "cell_type": "code",
   "execution_count": 19,
   "id": "48657203",
   "metadata": {
    "scrolled": true
   },
   "outputs": [],
   "source": [
    "data_postores.columns = ['CODIGOCONVOCATORIA','FECHACONVOCATORIA','FECHA_REGISTRO_SISTEMA',\n",
    "                         'HORA_REGISTRO','FECHA_PRESENTACION_PROPUESTA', 'HORA_PRESENTACION',\n",
    "                         'N_ITEM','RUC_CODIGO_POSTOR','POSTOR','RUC_DETALLEPOSTOR','DETALLE_POSTOR', 'PORCENTAJE',\n",
    "                         'MONEDA','MONTO','ESTADOADMISIONPRESENPROPUESTA', 'ORIGEN']"
   ]
  },
  {
   "cell_type": "code",
   "execution_count": 20,
   "id": "4e2be76e",
   "metadata": {},
   "outputs": [],
   "source": [
    "data_postores['MONTO'] = pd.to_numeric(data_postores['MONTO'].apply(str).str.replace(\",\",\".\"), errors = 'coerce')\n",
    "data_postores['PORCENTAJE'] = pd.to_numeric(data_postores['PORCENTAJE'])"
   ]
  },
  {
   "cell_type": "code",
   "execution_count": 21,
   "id": "97d5afe8",
   "metadata": {},
   "outputs": [],
   "source": [
    "data_postores = data_postores.drop_duplicates()"
   ]
  },
  {
   "cell_type": "code",
   "execution_count": 23,
   "id": "f38bc598",
   "metadata": {
    "scrolled": true
   },
   "outputs": [],
   "source": [
    "data_postores['MONTOF'] = data_postores.groupby(['CODIGOCONVOCATORIA','N_ITEM','RUC_CODIGO_POSTOR'])['MONTO'].transform('sum')"
   ]
  },
  {
   "cell_type": "code",
   "execution_count": 24,
   "id": "f4a023b0",
   "metadata": {},
   "outputs": [],
   "source": [
    "data_postores=data_postores.reset_index()"
   ]
  },
  {
   "cell_type": "code",
   "execution_count": 25,
   "id": "c887d5ca",
   "metadata": {},
   "outputs": [],
   "source": [
    "postores_unicos = data_postores.groupby(['CODIGOCONVOCATORIA','N_ITEM'])['RUC_CODIGO_POSTOR'].nunique()\n",
    "postores_unicos=postores_unicos.reset_index()\n",
    "postores_unicos.columns = ['CODIGOCONVOCATORIA','N_ITEM','NPOSTORES']\n",
    "postores_unicos\n",
    "data_postores = pd.merge(data_postores, postores_unicos, on=['CODIGOCONVOCATORIA','N_ITEM'],how='left')\n",
    "data_postores=data_postores.reset_index()"
   ]
  },
  {
   "cell_type": "markdown",
   "id": "4567e5b4",
   "metadata": {},
   "source": [
    "# Geograpich database"
   ]
  },
  {
   "cell_type": "code",
   "execution_count": 28,
   "id": "a65a6e26",
   "metadata": {},
   "outputs": [],
   "source": [
    "data_old = pickle.load(open(\"../../data/interim/seace_old.pickle\",'rb'))\n",
    "data_new = pickle.load(open(\"../../data/interim/seace.pickle\",'rb'))\n",
    "\n",
    "colnames_old = pd.DataFrame([*map(lambda y: y.columns, data_old)])\n",
    "colnames_old = colnames_old.apply(lambda y: (y.value_counts().idxmax(), y.value_counts().max(), y.unique())).transpose()\n",
    "colnames = pd.DataFrame([*map(lambda y: y.columns, data_new)])\n",
    "colnames = colnames.apply(lambda y: (y.value_counts().idxmax(), y.value_counts().max(), y.unique())).transpose()\n",
    "colnames_old.to_excel(\"../../data/external/colnames_old_.xlsx\")\n",
    "colnames.to_excel(\"../../data/external/colnames_.xlsx\")\n",
    "\n",
    "rename_df = pd.read_excel(\"../../data/external/columns_names.xlsx\", sheet_name='rename')\n",
    "rename_df = rename_df.set_index('ORIGINAL').to_dict()['MODIFICADO']"
   ]
  },
  {
   "cell_type": "code",
   "execution_count": 29,
   "id": "214b6bb7",
   "metadata": {},
   "outputs": [],
   "source": [
    "try:\n",
    "    data_old = pd.concat(map(lambda df: df.rename(columns = rename_df), data_old))\n",
    "except:\n",
    "    data_old = pd.DataFrame()"
   ]
  },
  {
   "cell_type": "code",
   "execution_count": 30,
   "id": "fe31ebe4",
   "metadata": {},
   "outputs": [],
   "source": [
    "data_new = pd.concat(map(lambda df: df.rename(columns = rename_df), data_new))\n",
    "data = pd.concat([data_old, data_new], ignore_index = True)"
   ]
  },
  {
   "cell_type": "code",
   "execution_count": 32,
   "id": "4766e84b",
   "metadata": {},
   "outputs": [],
   "source": [
    "geodata = data[['CODIGOCONVOCATORIA', 'N_ITEM', 'RUC_ENTIDAD','ENTIDAD_DEPARTAMENTO',\n",
    "             'ENTIDAD_DISTRITO', 'ENTIDAD_PROVINCIA']]"
   ]
  },
  {
   "cell_type": "markdown",
   "id": "8d459f78",
   "metadata": {},
   "source": [
    "# Merge awarded public procurement, Bidders' database and geograpic database"
   ]
  },
  {
   "cell_type": "code",
   "execution_count": 34,
   "id": "bef76d76",
   "metadata": {},
   "outputs": [],
   "source": [
    "df_combinado = pd.merge(data_adj, data_postores, on=['CODIGOCONVOCATORIA','N_ITEM'],how='left')\n",
    "df_combinado_final = pd.merge(df_combinado, geodata, on=['CODIGOCONVOCATORIA','N_ITEM','RUC_ENTIDAD'],how='left')"
   ]
  },
  {
   "cell_type": "markdown",
   "id": "399c1a60-7b07-438f-957f-50b9e2ea4fbb",
   "metadata": {},
   "source": [
    "# Filter the database of municipalities located in Lima"
   ]
  },
  {
   "cell_type": "code",
   "execution_count": 7,
   "id": "d8d99418",
   "metadata": {},
   "outputs": [
    {
     "ename": "NameError",
     "evalue": "name 'df_combinado_final' is not defined",
     "output_type": "error",
     "traceback": [
      "\u001b[1;31m---------------------------------------------------------------------------\u001b[0m",
      "\u001b[1;31mNameError\u001b[0m                                 Traceback (most recent call last)",
      "Cell \u001b[1;32mIn[7], line 1\u001b[0m\n\u001b[1;32m----> 1\u001b[0m df_combinado_final\u001b[38;5;241m=\u001b[39m df_combinado_final[(df_combinado_final[\u001b[38;5;124m'\u001b[39m\u001b[38;5;124mENTIDAD_DEPARTAMENTO\u001b[39m\u001b[38;5;124m'\u001b[39m] \u001b[38;5;241m==\u001b[39m \u001b[38;5;124m'\u001b[39m\u001b[38;5;124mLIMA\u001b[39m\u001b[38;5;124m'\u001b[39m)]\n\u001b[0;32m      2\u001b[0m df_combinado_final\u001b[38;5;241m=\u001b[39m df_combinado_final[(df_combinado_final[\u001b[38;5;124m'\u001b[39m\u001b[38;5;124mTIPOENTIDAD\u001b[39m\u001b[38;5;124m'\u001b[39m] \u001b[38;5;241m==\u001b[39m \u001b[38;5;124m'\u001b[39m\u001b[38;5;124mGOBIERNO LOCAL\u001b[39m\u001b[38;5;124m'\u001b[39m)]\n\u001b[0;32m      3\u001b[0m df_combinado_final\n",
      "\u001b[1;31mNameError\u001b[0m: name 'df_combinado_final' is not defined"
     ]
    }
   ],
   "source": [
    "df_combinado_final= df_combinado_final[(df_combinado_final['ENTIDAD_DEPARTAMENTO'] == 'LIMA')]\n",
    "df_combinado_final= df_combinado_final[(df_combinado_final['TIPOENTIDAD'] == 'GOBIERNO LOCAL')]\n",
    "df_combinado_final"
   ]
  },
  {
   "cell_type": "code",
   "execution_count": null,
   "id": "41bf0602-00d7-47c6-a663-14c3925542da",
   "metadata": {},
   "outputs": [],
   "source": []
  }
 ],
 "metadata": {
  "kernelspec": {
   "display_name": "Python 3 (ipykernel)",
   "language": "python",
   "name": "python3"
  },
  "language_info": {
   "codemirror_mode": {
    "name": "ipython",
    "version": 3
   },
   "file_extension": ".py",
   "mimetype": "text/x-python",
   "name": "python",
   "nbconvert_exporter": "python",
   "pygments_lexer": "ipython3",
   "version": "3.11.7"
  }
 },
 "nbformat": 4,
 "nbformat_minor": 5
}
